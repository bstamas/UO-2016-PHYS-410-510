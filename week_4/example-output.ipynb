{
 "cells": [
  {
   "cell_type": "markdown",
   "metadata": {},
   "source": [
    "#File I/O Example"
   ]
  },
  {
   "cell_type": "markdown",
   "metadata": {},
   "source": [
    "## import statements"
   ]
  },
  {
   "cell_type": "code",
   "execution_count": 139,
   "metadata": {
    "collapsed": true
   },
   "outputs": [],
   "source": [
    "import math\n",
    "import numpy as np"
   ]
  },
  {
   "cell_type": "markdown",
   "metadata": {},
   "source": [
    "## open a file\n",
    "Open a file with a filename and a mode (e.g., read('r') or write('w')"
   ]
  },
  {
   "cell_type": "code",
   "execution_count": 152,
   "metadata": {
    "collapsed": false
   },
   "outputs": [],
   "source": [
    "f = open('example-output.txt', 'w')"
   ]
  },
  {
   "cell_type": "code",
   "execution_count": 150,
   "metadata": {
    "collapsed": false
   },
   "outputs": [],
   "source": [
    "y = np.zeros(10, dtype=float)\n",
    "for i in range(1,11):\n",
    "  x = float(i)\n",
    "  y[i-1] = x**1/3 + 3*i\n",
    "  f.write('{0:.1f} '.format(y[i-1]))\n",
    "  string = ' ' + str(y[i-1])\n",
    "#end for\n",
    "\n",
    "f.write(\"\\n\")\n"
   ]
  },
  {
   "cell_type": "code",
   "execution_count": 153,
   "metadata": {
    "collapsed": false
   },
   "outputs": [
    {
     "name": "stdout",
     "output_type": "stream",
     "text": [
      "[1.0   2.0   3.0   4.0   5.0   6.0   7.0   8.0   9.0   10.0  ]\n"
     ]
    }
   ],
   "source": [
    "np.set_printoptions(formatter={'float': '{:.1f}  '.format})\n",
    "x = np.array(range(1,11), dtype=float)\n",
    "print x\n",
    "y = x**1/3 + 3*x\n",
    "f.write(str(y))"
   ]
  },
  {
   "cell_type": "markdown",
   "metadata": {},
   "source": [
    "## close file\n",
    "You have to close the file before all output is flushed to the file and you can see the results."
   ]
  },
  {
   "cell_type": "code",
   "execution_count": 154,
   "metadata": {
    "collapsed": true
   },
   "outputs": [],
   "source": [
    "f.close()"
   ]
  },
  {
   "cell_type": "code",
   "execution_count": null,
   "metadata": {
    "collapsed": true
   },
   "outputs": [],
   "source": []
  }
 ],
 "metadata": {
  "kernelspec": {
   "display_name": "Python 2",
   "language": "python",
   "name": "python2"
  },
  "language_info": {
   "codemirror_mode": {
    "name": "ipython",
    "version": 2
   },
   "file_extension": ".py",
   "mimetype": "text/x-python",
   "name": "python",
   "nbconvert_exporter": "python",
   "pygments_lexer": "ipython2",
   "version": "2.7.10"
  }
 },
 "nbformat": 4,
 "nbformat_minor": 0
}
